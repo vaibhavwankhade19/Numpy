{
 "cells": [
  {
   "cell_type": "code",
   "execution_count": 7,
   "id": "1bbccd4a-386b-47f1-b587-2692a85f965c",
   "metadata": {},
   "outputs": [
    {
     "name": "stdout",
     "output_type": "stream",
     "text": [
      "[1 2 3]\n",
      "[[0. 0. 0.]\n",
      " [0. 0. 0.]]\n",
      "[[1. 1. 1.]\n",
      " [1. 1. 1.]]\n",
      "[[1. 0. 0.]\n",
      " [0. 1. 0.]\n",
      " [0. 0. 1.]]\n",
      "[[7 7]\n",
      " [7 7]]\n",
      "[0 2 4 6 8]\n",
      "[0.   0.25 0.5  0.75 1.  ]\n",
      "[[0.67774645 0.76392649 0.57574965]\n",
      " [0.5861551  0.86940187 0.58018102]]\n",
      "[7 7 6 5 6]\n"
     ]
    }
   ],
   "source": [
    "import numpy as np\n",
    "\n",
    "mx1=np.array([1, 2, 3])         # Create ndarray from list\n",
    "print(mx1)\n",
    "\n",
    "mx2=np.zeros((2, 3))           # Create array of zeros\n",
    "print(mx2)\n",
    "\n",
    "mx3=np.ones((2, 3))            # Create array of ones\n",
    "print(mx3)\n",
    "\n",
    "mx4=np.eye(3)                      # Identity matrix\n",
    "print(mx4)\n",
    "\n",
    "mx5=np.full((2, 2), 7)          # Fill with constant\n",
    "print(mx5)\n",
    "\n",
    "mx6=np.arange(0, 10, 2)         # Like range() but returns ndarray\n",
    "print(mx6)\n",
    "\n",
    "mx7=np.linspace(0, 1, 5)        # 5 evenly spaced values from 0 to 1\n",
    "print(mx7)\n",
    "\n",
    "mx8=np.random.rand(2, 3)        # Random values in [0, 1)\n",
    "print(mx8)\n",
    "\n",
    "mx9=np.random.randint(1, 10, 5) # 5 random integers from 1 to 9\n",
    "print(mx9)\n",
    "\n"
   ]
  },
  {
   "cell_type": "code",
   "execution_count": 20,
   "id": "16772007-4fcd-4164-b581-53b0d4f9fec3",
   "metadata": {},
   "outputs": [
    {
     "name": "stdout",
     "output_type": "stream",
     "text": [
      "[ 2 12 24]\n",
      "[ 3  7 10]\n",
      "38\n",
      "[ 3  7 10]\n",
      "[ 2 12 24]\n"
     ]
    }
   ],
   "source": [
    "a=np.array([1,3,4])\n",
    "b=np.array([2,4,6])\n",
    "print(a*b)  #element wise multiplication\n",
    "print(a+b)  #element wise addition\n",
    "print(a.dot(b)) #dot production\n",
    "print(np.add(a,b)) #element wise addition\n",
    "print(np.multiply(a,b)) #element wise multil"
   ]
  },
  {
   "cell_type": "code",
   "execution_count": 23,
   "id": "02a3a2e6-9e66-4b91-98f7-a6b3bdc52e6a",
   "metadata": {},
   "outputs": [
    {
     "name": "stdout",
     "output_type": "stream",
     "text": [
      "[ 1  2  3  4  5  6  7  8  9 10 11 12]\n"
     ]
    }
   ],
   "source": [
    "#Numpy Function\n",
    "arr_1d = np.arange(1,13)\n",
    "print(arr_1d)"
   ]
  },
  {
   "cell_type": "code",
   "execution_count": 24,
   "id": "41e2b407-d470-4a42-83a9-2a8ba867a330",
   "metadata": {},
   "outputs": [
    {
     "name": "stdout",
     "output_type": "stream",
     "text": [
      "[ 1  3  5  7  9 11]\n"
     ]
    }
   ],
   "source": [
    "even_arr = np.arange(1,13,2)\n",
    "print(even_arr)"
   ]
  },
  {
   "cell_type": "code",
   "execution_count": 27,
   "id": "f59f38a1-9595-49c3-81e8-05e247822e9c",
   "metadata": {},
   "outputs": [
    {
     "name": "stdout",
     "output_type": "stream",
     "text": [
      "[ 1.          1.47368421  1.94736842  2.42105263  2.89473684  3.36842105\n",
      "  3.84210526  4.31578947  4.78947368  5.26315789  5.73684211  6.21052632\n",
      "  6.68421053  7.15789474  7.63157895  8.10526316  8.57894737  9.05263158\n",
      "  9.52631579 10.        ]\n"
     ]
    }
   ],
   "source": [
    "arr_2d =np.linspace(1,10,20)\n",
    "print(arr_2d)"
   ]
  },
  {
   "cell_type": "code",
   "execution_count": 31,
   "id": "cb7fe3ed-0eec-4d40-a0b9-8527593f45da",
   "metadata": {},
   "outputs": [
    {
     "name": "stdout",
     "output_type": "stream",
     "text": [
      "[[ 1  2  3  4]\n",
      " [ 5  6  7  8]\n",
      " [ 9 10 11 12]]\n"
     ]
    }
   ],
   "source": [
    "#Reshape 1d array convert to 2d 3d \n",
    "arr_2D=arr_1d.reshape(3,4)\n",
    "print(arr_2D)"
   ]
  },
  {
   "cell_type": "code",
   "execution_count": 32,
   "id": "871ab202-0365-4208-bfcd-c0b611750837",
   "metadata": {},
   "outputs": [
    {
     "name": "stdout",
     "output_type": "stream",
     "text": [
      "[[[ 1  2]\n",
      "  [ 3  4]\n",
      "  [ 5  6]]\n",
      "\n",
      " [[ 7  8]\n",
      "  [ 9 10]\n",
      "  [11 12]]]\n"
     ]
    }
   ],
   "source": [
    "arr_3D=arr_1d.reshape(2,3,2)\n",
    "print(arr_3D)"
   ]
  },
  {
   "cell_type": "code",
   "execution_count": 33,
   "id": "8ae6b69c-1eb8-46a0-9bb0-39a475170de3",
   "metadata": {},
   "outputs": [
    {
     "name": "stdout",
     "output_type": "stream",
     "text": [
      "[[ 1  2  3  4  5  6]\n",
      " [ 7  8  9 10 11 12]]\n"
     ]
    }
   ],
   "source": [
    "ar=np.arange(1,13).reshape(2,6)\n",
    "print(ar)"
   ]
  },
  {
   "cell_type": "code",
   "execution_count": 34,
   "id": "4f8c26a8-79d3-46f8-8325-80885007de00",
   "metadata": {},
   "outputs": [
    {
     "data": {
      "text/plain": [
       "array([ 1,  2,  3,  4,  5,  6,  7,  8,  9, 10, 11, 12])"
      ]
     },
     "execution_count": 34,
     "metadata": {},
     "output_type": "execute_result"
    }
   ],
   "source": [
    "#ravel() multidimention array convert into 1d\n",
    "ar.ravel()"
   ]
  },
  {
   "cell_type": "code",
   "execution_count": 35,
   "id": "f825211b-6426-49c3-98fa-7edc31112b8c",
   "metadata": {},
   "outputs": [
    {
     "data": {
      "text/plain": [
       "array([ 1,  2,  3,  4,  5,  6,  7,  8,  9, 10, 11, 12])"
      ]
     },
     "execution_count": 35,
     "metadata": {},
     "output_type": "execute_result"
    }
   ],
   "source": [
    "#flatten multidimention array convert into 1d\n",
    "ar.flatten()"
   ]
  },
  {
   "cell_type": "code",
   "execution_count": 36,
   "id": "0d2a51ab-b23d-43e5-bf08-7b50f4706e51",
   "metadata": {},
   "outputs": [
    {
     "data": {
      "text/plain": [
       "array([[ 1,  7],\n",
       "       [ 2,  8],\n",
       "       [ 3,  9],\n",
       "       [ 4, 10],\n",
       "       [ 5, 11],\n",
       "       [ 6, 12]])"
      ]
     },
     "execution_count": 36,
     "metadata": {},
     "output_type": "execute_result"
    }
   ],
   "source": [
    "#transpose row to clumn conversion\n",
    "ar.transpose()\n"
   ]
  },
  {
   "cell_type": "code",
   "execution_count": null,
   "id": "826561fa-7fd8-4592-b1f5-4af4730d6f31",
   "metadata": {},
   "outputs": [],
   "source": []
  }
 ],
 "metadata": {
  "kernelspec": {
   "display_name": "Python 3 (ipykernel)",
   "language": "python",
   "name": "python3"
  },
  "language_info": {
   "codemirror_mode": {
    "name": "ipython",
    "version": 3
   },
   "file_extension": ".py",
   "mimetype": "text/x-python",
   "name": "python",
   "nbconvert_exporter": "python",
   "pygments_lexer": "ipython3",
   "version": "3.12.7"
  }
 },
 "nbformat": 4,
 "nbformat_minor": 5
}
