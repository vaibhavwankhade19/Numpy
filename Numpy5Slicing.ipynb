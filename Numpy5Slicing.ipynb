{
 "cells": [
  {
   "cell_type": "code",
   "execution_count": 1,
   "id": "baa3560c-3618-4a86-b866-0dab4dfdc915",
   "metadata": {},
   "outputs": [
    {
     "name": "stdout",
     "output_type": "stream",
     "text": [
      "Original array: [10 20 30 40 50]\n",
      "a[1:4] = [20 30 40]\n",
      "a[:3] = [10 20 30]\n",
      "a[2:] = [30 40 50]\n",
      "a[-3:-1] = [30 40]\n",
      "a[::2] = [10 30 50]\n"
     ]
    }
   ],
   "source": [
    "#1. 1D Array Slicing\n",
    "import numpy as np\n",
    "\n",
    "a = np.array([10, 20, 30, 40, 50])\n",
    "\n",
    "print(\"Original array:\", a)\n",
    "print(\"a[1:4] =\", a[1:4])      # Elements from index 1 to 3\n",
    "print(\"a[:3] =\", a[:3])        # First 3 elements\n",
    "print(\"a[2:] =\", a[2:])        # From index 2 to end\n",
    "print(\"a[-3:-1] =\", a[-3:-1])  # Negative indexing\n",
    "print(\"a[::2] =\", a[::2])      # Step of 2\n"
   ]
  },
  {
   "cell_type": "code",
   "execution_count": 2,
   "id": "fd317045-9832-4ffc-827b-70ac37870a91",
   "metadata": {
    "scrolled": true
   },
   "outputs": [
    {
     "name": "stdout",
     "output_type": "stream",
     "text": [
      "Original 2D array:\n",
      " [[1 2 3]\n",
      " [4 5 6]\n",
      " [7 8 9]]\n",
      "b[0, 1] = 2\n",
      "b[1, :] = [4 5 6]\n",
      "b[:, 2] = [3 6 9]\n",
      "b[0:2, 1:3] =\n",
      " [[2 3]\n",
      " [5 6]]\n"
     ]
    }
   ],
   "source": [
    "#2. 2D Array Slicing\n",
    "b = np.array([[1, 2, 3],\n",
    "              [4, 5, 6],\n",
    "              [7, 8, 9]])\n",
    "\n",
    "print(\"Original 2D array:\\n\", b)\n",
    "\n",
    "print(\"b[0, 1] =\", b[0, 1])        # Element at row 0, col 1\n",
    "print(\"b[1, :] =\", b[1, :])        # Entire row 1\n",
    "print(\"b[:, 2] =\", b[:, 2])        # Entire column 2\n",
    "print(\"b[0:2, 1:3] =\\n\", b[0:2, 1:3])  # Slice submatrix\n"
   ]
  },
  {
   "cell_type": "code",
   "execution_count": 3,
   "id": "41dda7cf-adb1-4d2f-a637-0a2002e8da54",
   "metadata": {},
   "outputs": [
    {
     "name": "stdout",
     "output_type": "stream",
     "text": [
      "c[::2] = [ 0 20 40]\n",
      "c[::-1] = [50 40 30 20 10  0]\n"
     ]
    }
   ],
   "source": [
    "# 3. Slicing with Steps\n",
    "c = np.array([0, 10, 20, 30, 40, 50])\n",
    "\n",
    "print(\"c[::2] =\", c[::2])   # Every second element\n",
    "print(\"c[::-1] =\", c[::-1]) # Reverse array\n"
   ]
  },
  {
   "cell_type": "code",
   "execution_count": 4,
   "id": "2e186e0a-3d75-4068-bac9-e879fbf2a93c",
   "metadata": {},
   "outputs": [
    {
     "name": "stdout",
     "output_type": "stream",
     "text": [
      "Modified a: [ 1 99 99 99  5]\n"
     ]
    }
   ],
   "source": [
    "#4. Modify Array via Slicing\n",
    "a = np.array([1, 2, 3, 4, 5])\n",
    "a[1:4] = 99\n",
    "\n",
    "print(\"Modified a:\", a)\n"
   ]
  },
  {
   "cell_type": "code",
   "execution_count": null,
   "id": "c7d18f10-2932-410c-a81d-c0252b5183e9",
   "metadata": {},
   "outputs": [],
   "source": []
  }
 ],
 "metadata": {
  "kernelspec": {
   "display_name": "Python 3 (ipykernel)",
   "language": "python",
   "name": "python3"
  },
  "language_info": {
   "codemirror_mode": {
    "name": "ipython",
    "version": 3
   },
   "file_extension": ".py",
   "mimetype": "text/x-python",
   "name": "python",
   "nbconvert_exporter": "python",
   "pygments_lexer": "ipython3",
   "version": "3.12.7"
  }
 },
 "nbformat": 4,
 "nbformat_minor": 5
}
