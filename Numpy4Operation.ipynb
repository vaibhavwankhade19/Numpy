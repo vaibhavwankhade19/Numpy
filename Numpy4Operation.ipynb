{
 "cells": [
  {
   "cell_type": "code",
   "execution_count": 1,
   "id": "24bcd5e1-1e9a-4dc0-b48c-b374c1cfbcc0",
   "metadata": {},
   "outputs": [
    {
     "name": "stdout",
     "output_type": "stream",
     "text": [
      "a + b: [11 22 33]\n",
      "a - b: [ 9 18 27]\n",
      "a * b: [10 40 90]\n",
      "a / b: [10. 10. 10.]\n",
      "a % b: [0 0 0]\n",
      "a ** b: [   10   400 27000]\n"
     ]
    }
   ],
   "source": [
    "#1. Element-wise Arithmetic Operations\n",
    "\n",
    "import numpy as np\n",
    "\n",
    "a = np.array([10, 20, 30])\n",
    "b = np.array([1, 2, 3])\n",
    "\n",
    "print(\"a + b:\", a + b)\n",
    "print(\"a - b:\", a - b)\n",
    "print(\"a * b:\", a * b)\n",
    "print(\"a / b:\", a / b)\n",
    "print(\"a % b:\", a % b)\n",
    "print(\"a ** b:\", a ** b)"
   ]
  },
  {
   "cell_type": "code",
   "execution_count": 6,
   "id": "669d324d-7f75-491d-961f-73b783109e57",
   "metadata": {},
   "outputs": [
    {
     "name": "stdout",
     "output_type": "stream",
     "text": [
      "Square root: [1. 2. 3. 4.]\n",
      "Logarithm: [0.         1.38629436 2.19722458 2.77258872]\n",
      "Exponential: [2.71828183e+00 5.45981500e+01 8.10308393e+03 8.88611052e+06]\n"
     ]
    }
   ],
   "source": [
    "#2.Mathemathical functions\n",
    "a = np.array([1, 4, 9, 16])\n",
    "\n",
    "print(\"Square root:\", np.sqrt(a))\n",
    "print(\"Logarithm:\", np.log(a))\n",
    "print(\"Exponential:\", np.exp(a))\n"
   ]
  },
  {
   "cell_type": "code",
   "execution_count": 7,
   "id": "21e9146b-767e-4b41-b795-4804252112a5",
   "metadata": {},
   "outputs": [
    {
     "name": "stdout",
     "output_type": "stream",
     "text": [
      "sin: [0.0000000e+00 1.0000000e+00 1.2246468e-16]\n",
      "cos: [ 1.000000e+00  6.123234e-17 -1.000000e+00]\n",
      "tan: [ 0.00000000e+00  1.63312394e+16 -1.22464680e-16]\n"
     ]
    }
   ],
   "source": [
    "#3. Trigonometric Functions\n",
    "angles = np.array([0, np.pi/2, np.pi])\n",
    "\n",
    "print(\"sin:\", np.sin(angles))\n",
    "print(\"cos:\", np.cos(angles))\n",
    "print(\"tan:\", np.tan(angles))\n"
   ]
  },
  {
   "cell_type": "code",
   "execution_count": 8,
   "id": "386c86e6-d493-4a60-a23f-cc17c3b0a625",
   "metadata": {},
   "outputs": [
    {
     "name": "stdout",
     "output_type": "stream",
     "text": [
      "Round: [1. 2. 4.]\n",
      "Floor: [1. 2. 3.]\n",
      "Ceil: [2. 3. 4.]\n",
      "Trunc: [1. 2. 3.]\n"
     ]
    }
   ],
   "source": [
    "#4. Rounding Functions\n",
    "a = np.array([1.1, 2.5, 3.7])\n",
    "\n",
    "print(\"Round:\", np.round(a))\n",
    "print(\"Floor:\", np.floor(a))\n",
    "print(\"Ceil:\", np.ceil(a))\n",
    "print(\"Trunc:\", np.trunc(a))\n"
   ]
  },
  {
   "cell_type": "code",
   "execution_count": 9,
   "id": "6f3c0901-0628-4faa-a252-9528bd13ea47",
   "metadata": {},
   "outputs": [
    {
     "name": "stdout",
     "output_type": "stream",
     "text": [
      "Sum: 15\n",
      "Mean: 3.0\n",
      "Product: 120\n",
      "Min: 1\n",
      "Max: 5\n",
      "Cumulative Sum: [ 1  3  6 10 15]\n",
      "Cumulative Product: [  1   2   6  24 120]\n"
     ]
    }
   ],
   "source": [
    "# 5. Aggregate Functions\n",
    "a = np.array([1, 2, 3, 4, 5])\n",
    "\n",
    "print(\"Sum:\", np.sum(a))\n",
    "print(\"Mean:\", np.mean(a))\n",
    "print(\"Product:\", np.prod(a))\n",
    "print(\"Min:\", np.min(a))\n",
    "print(\"Max:\", np.max(a))\n",
    "print(\"Cumulative Sum:\", np.cumsum(a))\n",
    "print(\"Cumulative Product:\", np.cumprod(a))\n"
   ]
  },
  {
   "cell_type": "code",
   "execution_count": 10,
   "id": "a722a4db-bdb8-4d51-8b34-3a9c0caf8782",
   "metadata": {},
   "outputs": [
    {
     "name": "stdout",
     "output_type": "stream",
     "text": [
      "Dot Product:\n",
      " [[ 4  4]\n",
      " [10  8]]\n",
      "Inverse of A:\n",
      " [[-2.   1. ]\n",
      " [ 1.5 -0.5]]\n",
      "Determinant of A: -2.0000000000000004\n"
     ]
    }
   ],
   "source": [
    "# 6. Matrix Operations\n",
    "A = np.array([[1, 2], [3, 4]])\n",
    "B = np.array([[2, 0], [1, 2]])\n",
    "\n",
    "print(\"Dot Product:\\n\", np.dot(A, B))\n",
    "print(\"Inverse of A:\\n\", np.linalg.inv(A))\n",
    "print(\"Determinant of A:\", np.linalg.det(A))\n"
   ]
  },
  {
   "cell_type": "code",
   "execution_count": null,
   "id": "c93ed121-d6ab-44a7-a15f-e8fe3dc84996",
   "metadata": {},
   "outputs": [],
   "source": []
  }
 ],
 "metadata": {
  "kernelspec": {
   "display_name": "Python 3 (ipykernel)",
   "language": "python",
   "name": "python3"
  },
  "language_info": {
   "codemirror_mode": {
    "name": "ipython",
    "version": 3
   },
   "file_extension": ".py",
   "mimetype": "text/x-python",
   "name": "python",
   "nbconvert_exporter": "python",
   "pygments_lexer": "ipython3",
   "version": "3.12.7"
  }
 },
 "nbformat": 4,
 "nbformat_minor": 5
}
